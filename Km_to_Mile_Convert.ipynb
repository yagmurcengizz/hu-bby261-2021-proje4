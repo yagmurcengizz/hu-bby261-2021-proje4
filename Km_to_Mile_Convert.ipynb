{
  "nbformat": 4,
  "nbformat_minor": 0,
  "metadata": {
    "colab": {
      "name": "Km to Mile Convert.ipynb",
      "provenance": [],
      "collapsed_sections": [],
      "authorship_tag": "ABX9TyNcXHEXRzvGY32t+63Bg2ow",
      "include_colab_link": true
    },
    "kernelspec": {
      "name": "python3",
      "display_name": "Python 3"
    },
    "language_info": {
      "name": "python"
    }
  },
  "cells": [
    {
      "cell_type": "markdown",
      "metadata": {
        "id": "view-in-github",
        "colab_type": "text"
      },
      "source": [
        "<a href=\"https://colab.research.google.com/github/yagmurcengizz/hu-bby261-2021-proje4/blob/main/Km_to_Mile_Convert.ipynb\" target=\"_parent\"><img src=\"https://colab.research.google.com/assets/colab-badge.svg\" alt=\"Open In Colab\"/></a>"
      ]
    },
    {
      "cell_type": "code",
      "execution_count": 1,
      "metadata": {
        "colab": {
          "base_uri": "https://localhost:8080/",
          "height": 539
        },
        "id": "4aR441-X_SW_",
        "outputId": "c69e4c60-7ca3-4281-cf40-d113fd1be2c6"
      },
      "outputs": [
        {
          "output_type": "stream",
          "name": "stdout",
          "text": [
            "Eğitim sayısını giriniz:300\n",
            "Km değerini giriniz:45\n",
            "5.0 degrees Kilometer = 3.1068559612 degrees Mile\n",
            "10.0 degrees Kilometer = 6.2137119224 degrees Mile\n",
            "15.0 degrees Kilometer = 9.3205678836 degrees Mile\n",
            "30.0 degrees Kilometer = 18.641135767 degrees Mile\n",
            "45.0 degrees Kilometer = 27.961703651 degrees Mile\n",
            "50.0 degrees Kilometer = 31.068559612 degrees Mile\n",
            "60.0 degrees Kilometer = 37.282271534 degrees Mile\n",
            "85.0 degrees Kilometer = 52.81655134 degrees Mile\n",
            "90.0 degrees Kilometer = 55.923407301 degrees Mile\n",
            "100.0 degrees Kilometer = 62.137119224 degrees Mile\n",
            "Finished training the model\n",
            "[[27.961702]]\n",
            "27.96165\n"
          ]
        },
        {
          "output_type": "display_data",
          "data": {
            "image/png": "[encoded data removed]",
            "text/plain": [
              "<Figure size 432x288 with 1 Axes>"
            ]
          },
          "metadata": {
            "needs_background": "light"
          }
        }
      ],
      "source": [
        "import tensorflow as tf\n",
        "import numpy as np\n",
        "import logging\n",
        "import matplotlib.pyplot as plt\n",
        "\n",
        "logger = tf.get_logger()\n",
        "logger.setLevel(logging.ERROR)\n",
        "\n",
        "tekrar = int(input(\"Eğitim sayısını giriniz:\"))\n",
        "cevir = int(input(\"Km değerini giriniz:\"))\n",
        "sonuc = cevir * 0.62137\n",
        "\n",
        "kilometer_q    = np.array([5, 10,  15,  30, 45, 50, 60, 85, 90, 100,],  dtype=float)\n",
        "mile_a = np.array([ 3.1068559612, 6.2137119224, 9.3205678836, 18.641135767, 27.961703651, 31.068559612, 37.282271534, 52.81655134,  55.923407301, 62.137119224 ],  dtype=float)\n",
        "\n",
        "for i,c in enumerate(kilometer_q):\n",
        "  print(\"{} degrees Kilometer = {} degrees Mile\".format(c, mile_a[i]))\n",
        "\n",
        "l0 = tf.keras.layers.Dense(units=1, input_shape=[1])\n",
        "\n",
        "model = tf.keras.Sequential([l0])\n",
        "model.compile(loss='mean_squared_error',\n",
        "              optimizer=tf.keras.optimizers.Adam(0.1))\n",
        "\n",
        "history = model.fit(kilometer_q, mile_a, epochs=tekrar, verbose=False)\n",
        "\n",
        "print(\"Finished training the model\")\n",
        "\n",
        "plt.xlabel('Epoch Number')\n",
        "plt.ylabel(\"Loss Magnitude\")\n",
        "plt.plot(history.history['loss'])\n",
        "\n",
        "print(model.predict([cevir]))\n",
        "print(sonuc)"
      ]
    }
  ]
}